{
 "cells": [
  {
   "cell_type": "code",
   "execution_count": 1,
   "metadata": {},
   "outputs": [],
   "source": [
    "import kagglehub\n",
    "import matplotlib.pyplot as plt\n",
    "import pandas as pd\n",
    "import sklearn\n",
    "import sklearn.metrics\n",
    "import sklearn.linear_model\n",
    "import sklearn.model_selection\n",
    "import sklearn.preprocessing"
   ]
  },
  {
   "cell_type": "code",
   "execution_count": 2,
   "metadata": {},
   "outputs": [
    {
     "name": "stdout",
     "output_type": "stream",
     "text": [
      "Path to dataset files: C:\\Users\\l.mora\\.cache\\kagglehub\\datasets\\taruneshburman\\energy-fraud-detection\\versions\\1\n"
     ]
    }
   ],
   "source": [
    "# Download latest Energy Fraud Detection version\n",
    "path = kagglehub.dataset_download(\"taruneshburman/energy-fraud-detection\")\n",
    "\n",
    "print(\"Path to dataset files:\", path)"
   ]
  },
  {
   "cell_type": "code",
   "execution_count": 3,
   "metadata": {},
   "outputs": [
    {
     "name": "stdout",
     "output_type": "stream",
     "text": [
      "[RESIDENTIAL] Number of instances:\t269\n",
      "[COMMMERCIAL] Number of instances:\t268\n",
      "Total number of columns:\t\t11\n",
      "Column names:\n",
      "\t- Customer_Type;\n",
      "\t- Average_Bill_Amount;\n",
      "\t- Meter_Readings_Deviation;\n",
      "\t- Billing_Cycle;\n",
      "\t- Historical_Consumption;\n",
      "\t- Meter_Type;\n",
      "\t- Tampering_Alerts;\n",
      "\t- Last_Inspection_Days;\n",
      "\t- Peak_Usage_Anomalies;\n",
      "\t- Complaints_Logged;\n",
      "\t- Fraud_Status.\n"
     ]
    }
   ],
   "source": [
    "data = pd.read_csv(f\"{path}\\\\Energy_Fraud_Detection.csv\", low_memory=False)\n",
    "\n",
    "res_data = data[\n",
    "    (data.Meter_Type == \"Digital\") &\n",
    "    (data.Customer_Type == \"Residential\")\n",
    "]\n",
    "com_data = data[\n",
    "    (data.Meter_Type == \"Digital\") &\n",
    "    (data.Customer_Type == \"Commercial\")\n",
    "]\n",
    "\n",
    "print(f\"[RESIDENTIAL] Number of instances:\\t{len(res_data)}\")\n",
    "print(f\"[COMMMERCIAL] Number of instances:\\t{len(com_data)}\")\n",
    "print(f\"Total number of columns:\\t\\t{len(com_data.columns)}\")\n",
    "print(f\"Column names:\\n\\t- {\";\\n\\t- \".join(list(com_data.columns))}.\")"
   ]
  },
  {
   "cell_type": "code",
   "execution_count": 4,
   "metadata": {},
   "outputs": [
    {
     "name": "stdout",
     "output_type": "stream",
     "text": [
      "Training features:\n",
      "\t- Average_Bill_Amount;\n",
      "\t- Meter_Readings_Deviation;\n",
      "\t- Historical_Consumption;\n",
      "\t- Last_Inspection_Days;\n",
      "\t- Peak_Usage_Anomalies.\n",
      "Target variable:\n",
      "\t- Fraud_Status\n"
     ]
    }
   ],
   "source": [
    "features = [\n",
    "    # 'Customer_Type',\n",
    "    'Average_Bill_Amount',\n",
    "    'Meter_Readings_Deviation',\n",
    "    # 'Billing_Cycle',\n",
    "    'Historical_Consumption',\n",
    "    # 'Meter_Type',\n",
    "    # 'Tampering_Alerts',\n",
    "    'Last_Inspection_Days',\n",
    "    'Peak_Usage_Anomalies',\n",
    "    # 'Complaints_Logged'\n",
    "]\n",
    "target = 'Fraud_Status'\n",
    "target_labels = ['Confirmed Fraud', 'No Fraud', 'Potential Fraud']\n",
    "\n",
    "print(f\"Training features:\\n\\t- {\";\\n\\t- \".join(features)}.\")\n",
    "print(f\"Target variable:\\n\\t- {target}\")"
   ]
  },
  {
   "cell_type": "code",
   "execution_count": 5,
   "metadata": {},
   "outputs": [
    {
     "name": "stdout",
     "output_type": "stream",
     "text": [
      "[RESIDENTIAL] Training set instances:\t215\n",
      "[COMMMERCIAL] Training set instances:\t214\n",
      "\n",
      "[RESIDENTIAL] Test set instances:\t54\n",
      "[COMMMERCIAL] Test set instances:\t54\n"
     ]
    }
   ],
   "source": [
    "res_train, res_test = sklearn.model_selection.train_test_split(res_data, test_size=.2, random_state=42, shuffle=True)\n",
    "com_train, com_test = sklearn.model_selection.train_test_split(com_data, test_size=.2, random_state=42, shuffle=True)\n",
    "\n",
    "print(f\"[RESIDENTIAL] Training set instances:\\t{len(res_train)}\")\n",
    "print(f\"[COMMMERCIAL] Training set instances:\\t{len(com_train)}\\n\")\n",
    "print(f\"[RESIDENTIAL] Test set instances:\\t{len(res_test)}\")\n",
    "print(f\"[COMMMERCIAL] Test set instances:\\t{len(com_test)}\")"
   ]
  },
  {
   "cell_type": "markdown",
   "metadata": {},
   "source": [
    "## Residential PODs"
   ]
  },
  {
   "cell_type": "code",
   "execution_count": 6,
   "metadata": {},
   "outputs": [],
   "source": [
    "res_x_train = res_train[features].to_numpy()\n",
    "res_y_train = res_train[target].astype(\"category\")\n",
    "\n",
    "res_x_test = res_test[features].to_numpy()\n",
    "res_y_test = res_test[target].astype(\"category\")"
   ]
  },
  {
   "cell_type": "code",
   "execution_count": 7,
   "metadata": {},
   "outputs": [],
   "source": [
    "scaler = sklearn.preprocessing.StandardScaler()\n",
    "res_scaled_x_train = scaler.fit_transform(res_x_train)"
   ]
  },
  {
   "cell_type": "code",
   "execution_count": 8,
   "metadata": {},
   "outputs": [],
   "source": [
    "res_clf = sklearn.linear_model.Perceptron(\n",
    "    # loss=\"squared_hinge\",\n",
    "    max_iter=3000,\n",
    "    random_state=42\n",
    ")\n",
    "res_fitted_clf = res_clf.fit(res_scaled_x_train, res_y_train)"
   ]
  },
  {
   "cell_type": "code",
   "execution_count": 9,
   "metadata": {},
   "outputs": [],
   "source": [
    "res_y_pred = res_fitted_clf.predict(scaler.transform(res_x_test))\n",
    "res_results = pd.DataFrame({\"EXPECTED\": res_y_test, \"PREDICTED\": res_y_pred})"
   ]
  },
  {
   "cell_type": "code",
   "execution_count": null,
   "metadata": {},
   "outputs": [
    {
     "data": {
      "text/html": [
       "<div>\n",
       "<style scoped>\n",
       "    .dataframe tbody tr th:only-of-type {\n",
       "        vertical-align: middle;\n",
       "    }\n",
       "\n",
       "    .dataframe tbody tr th {\n",
       "        vertical-align: top;\n",
       "    }\n",
       "\n",
       "    .dataframe thead th {\n",
       "        text-align: right;\n",
       "    }\n",
       "</style>\n",
       "<table border=\"1\" class=\"dataframe\">\n",
       "  <thead>\n",
       "    <tr style=\"text-align: right;\">\n",
       "      <th></th>\n",
       "      <th>EXPECTED</th>\n",
       "      <th>PREDICTED</th>\n",
       "    </tr>\n",
       "  </thead>\n",
       "  <tbody>\n",
       "    <tr>\n",
       "      <th>99</th>\n",
       "      <td>No Fraud</td>\n",
       "      <td>No Fraud</td>\n",
       "    </tr>\n",
       "    <tr>\n",
       "      <th>393</th>\n",
       "      <td>Potential Fraud</td>\n",
       "      <td>Confirmed Fraud</td>\n",
       "    </tr>\n",
       "    <tr>\n",
       "      <th>289</th>\n",
       "      <td>Confirmed Fraud</td>\n",
       "      <td>No Fraud</td>\n",
       "    </tr>\n",
       "    <tr>\n",
       "      <th>427</th>\n",
       "      <td>Confirmed Fraud</td>\n",
       "      <td>No Fraud</td>\n",
       "    </tr>\n",
       "    <tr>\n",
       "      <th>665</th>\n",
       "      <td>Confirmed Fraud</td>\n",
       "      <td>Confirmed Fraud</td>\n",
       "    </tr>\n",
       "    <tr>\n",
       "      <th>460</th>\n",
       "      <td>Confirmed Fraud</td>\n",
       "      <td>Potential Fraud</td>\n",
       "    </tr>\n",
       "    <tr>\n",
       "      <th>739</th>\n",
       "      <td>Confirmed Fraud</td>\n",
       "      <td>Potential Fraud</td>\n",
       "    </tr>\n",
       "    <tr>\n",
       "      <th>170</th>\n",
       "      <td>No Fraud</td>\n",
       "      <td>No Fraud</td>\n",
       "    </tr>\n",
       "    <tr>\n",
       "      <th>598</th>\n",
       "      <td>No Fraud</td>\n",
       "      <td>Confirmed Fraud</td>\n",
       "    </tr>\n",
       "    <tr>\n",
       "      <th>898</th>\n",
       "      <td>Potential Fraud</td>\n",
       "      <td>No Fraud</td>\n",
       "    </tr>\n",
       "    <tr>\n",
       "      <th>618</th>\n",
       "      <td>Confirmed Fraud</td>\n",
       "      <td>Confirmed Fraud</td>\n",
       "    </tr>\n",
       "    <tr>\n",
       "      <th>995</th>\n",
       "      <td>Potential Fraud</td>\n",
       "      <td>No Fraud</td>\n",
       "    </tr>\n",
       "    <tr>\n",
       "      <th>821</th>\n",
       "      <td>No Fraud</td>\n",
       "      <td>No Fraud</td>\n",
       "    </tr>\n",
       "    <tr>\n",
       "      <th>297</th>\n",
       "      <td>No Fraud</td>\n",
       "      <td>Potential Fraud</td>\n",
       "    </tr>\n",
       "    <tr>\n",
       "      <th>642</th>\n",
       "      <td>No Fraud</td>\n",
       "      <td>No Fraud</td>\n",
       "    </tr>\n",
       "  </tbody>\n",
       "</table>\n",
       "</div>"
      ],
      "text/plain": [
       "            EXPECTED        PREDICTED\n",
       "99          No Fraud         No Fraud\n",
       "393  Potential Fraud  Confirmed Fraud\n",
       "289  Confirmed Fraud         No Fraud\n",
       "427  Confirmed Fraud         No Fraud\n",
       "665  Confirmed Fraud  Confirmed Fraud\n",
       "460  Confirmed Fraud  Potential Fraud\n",
       "739  Confirmed Fraud  Potential Fraud\n",
       "170         No Fraud         No Fraud\n",
       "598         No Fraud  Confirmed Fraud\n",
       "898  Potential Fraud         No Fraud\n",
       "618  Confirmed Fraud  Confirmed Fraud\n",
       "995  Potential Fraud         No Fraud\n",
       "821         No Fraud         No Fraud\n",
       "297         No Fraud  Potential Fraud\n",
       "642         No Fraud         No Fraud"
      ]
     },
     "execution_count": 10,
     "metadata": {},
     "output_type": "execute_result"
    }
   ],
   "source": [
    "res_results.head(15)"
   ]
  },
  {
   "cell_type": "code",
   "execution_count": 11,
   "metadata": {},
   "outputs": [
    {
     "data": {
      "text/plain": [
       "0.3488372093023256"
      ]
     },
     "execution_count": 11,
     "metadata": {},
     "output_type": "execute_result"
    }
   ],
   "source": [
    "res_fitted_clf.score(res_x_train, res_y_train)"
   ]
  },
  {
   "cell_type": "code",
   "execution_count": 12,
   "metadata": {},
   "outputs": [
    {
     "data": {
      "text/plain": [
       "0.25925925925925924"
      ]
     },
     "execution_count": 12,
     "metadata": {},
     "output_type": "execute_result"
    }
   ],
   "source": [
    "res_fitted_clf.score(res_x_test, res_y_test)"
   ]
  },
  {
   "cell_type": "code",
   "execution_count": 13,
   "metadata": {},
   "outputs": [],
   "source": [
    "res_confusion_matrix = sklearn.metrics.confusion_matrix(res_y_test, res_y_pred)"
   ]
  },
  {
   "cell_type": "code",
   "execution_count": 14,
   "metadata": {},
   "outputs": [
    {
     "data": {
      "image/png": "[encoded data removed]",
      "text/plain": [
       "<Figure size 640x480 with 2 Axes>"
      ]
     },
     "metadata": {},
     "output_type": "display_data"
    }
   ],
   "source": [
    "res_cm_display = sklearn.metrics.ConfusionMatrixDisplay(\n",
    "    confusion_matrix=res_confusion_matrix,\n",
    "    display_labels=target_labels)\n",
    "\n",
    "res_cm_display.plot(\n",
    "    cmap=plt.cm.Blues, # type: ignore\n",
    "    xticks_rotation=40\n",
    ")\n",
    "plt.show()"
   ]
  },
  {
   "cell_type": "code",
   "execution_count": 15,
   "metadata": {},
   "outputs": [],
   "source": [
    "res_avg_metrics = {\n",
    "    \"accuracy\": sklearn.metrics.accuracy_score(res_y_test, res_y_pred),\n",
    "    \"precision\": sklearn.metrics.precision_score(\n",
    "        res_y_test, res_y_pred,\n",
    "        labels=target_labels,\n",
    "        average=\"weighted\"),\n",
    "    \"sensitivity\": sklearn.metrics.recall_score(\n",
    "        res_y_test, res_y_pred,\n",
    "        labels=target_labels,\n",
    "        average=\"weighted\"),\n",
    "    \"f1_score\": sklearn.metrics.f1_score(\n",
    "        res_y_test, res_y_pred,\n",
    "        labels=target_labels,\n",
    "        average=\"weighted\")\n",
    "}"
   ]
  },
  {
   "cell_type": "code",
   "execution_count": 16,
   "metadata": {},
   "outputs": [
    {
     "data": {
      "text/plain": [
       "{'accuracy': 0.3888888888888889,\n",
       " 'precision': 0.35561968895302226,\n",
       " 'sensitivity': 0.3888888888888889,\n",
       " 'f1_score': 0.342355175688509}"
      ]
     },
     "execution_count": 16,
     "metadata": {},
     "output_type": "execute_result"
    }
   ],
   "source": [
    "res_avg_metrics"
   ]
  },
  {
   "cell_type": "code",
   "execution_count": 17,
   "metadata": {},
   "outputs": [
    {
     "name": "stdout",
     "output_type": "stream",
     "text": [
      "                 precision    recall  f1-score   support\n",
      "\n",
      "Confirmed Fraud       0.36      0.31      0.33        16\n",
      "       No Fraud       0.42      0.74      0.54        19\n",
      "Potential Fraud       0.29      0.11      0.15        19\n",
      "\n",
      "       accuracy                           0.39        54\n",
      "      macro avg       0.36      0.38      0.34        54\n",
      "   weighted avg       0.36      0.39      0.34        54\n",
      "\n"
     ]
    }
   ],
   "source": [
    "print(sklearn.metrics.classification_report(res_y_test, res_y_pred, target_names=target_labels))"
   ]
  },
  {
   "cell_type": "markdown",
   "metadata": {},
   "source": [
    "## Commercial PODs"
   ]
  },
  {
   "cell_type": "code",
   "execution_count": 18,
   "metadata": {},
   "outputs": [],
   "source": [
    "com_x_train = com_train[features].to_numpy()\n",
    "com_y_train = com_train[target].astype(\"category\")\n",
    "\n",
    "com_x_test = com_test[features].to_numpy()\n",
    "com_y_test = com_test[target].astype(\"category\")"
   ]
  },
  {
   "cell_type": "code",
   "execution_count": 19,
   "metadata": {},
   "outputs": [],
   "source": [
    "scaler = sklearn.preprocessing.StandardScaler()\n",
    "com_scaled_x_train = scaler.fit_transform(com_x_train)"
   ]
  },
  {
   "cell_type": "code",
   "execution_count": 20,
   "metadata": {},
   "outputs": [],
   "source": [
    "com_clf = sklearn.linear_model.Perceptron(\n",
    "    max_iter=3000,\n",
    "    random_state=42\n",
    ")\n",
    "com_fitted_clf = com_clf.fit(com_scaled_x_train, com_y_train)"
   ]
  },
  {
   "cell_type": "code",
   "execution_count": 21,
   "metadata": {},
   "outputs": [],
   "source": [
    "com_y_pred = com_fitted_clf.predict(scaler.transform(com_x_test))\n",
    "com_results = pd.DataFrame({\"EXPECTED\": com_y_test, \"PREDICTED\": com_y_pred})"
   ]
  },
  {
   "cell_type": "code",
   "execution_count": 22,
   "metadata": {},
   "outputs": [
    {
     "data": {
      "text/html": [
       "<div>\n",
       "<style scoped>\n",
       "    .dataframe tbody tr th:only-of-type {\n",
       "        vertical-align: middle;\n",
       "    }\n",
       "\n",
       "    .dataframe tbody tr th {\n",
       "        vertical-align: top;\n",
       "    }\n",
       "\n",
       "    .dataframe thead th {\n",
       "        text-align: right;\n",
       "    }\n",
       "</style>\n",
       "<table border=\"1\" class=\"dataframe\">\n",
       "  <thead>\n",
       "    <tr style=\"text-align: right;\">\n",
       "      <th></th>\n",
       "      <th>EXPECTED</th>\n",
       "      <th>PREDICTED</th>\n",
       "    </tr>\n",
       "  </thead>\n",
       "  <tbody>\n",
       "    <tr>\n",
       "      <th>428</th>\n",
       "      <td>Potential Fraud</td>\n",
       "      <td>Confirmed Fraud</td>\n",
       "    </tr>\n",
       "    <tr>\n",
       "      <th>810</th>\n",
       "      <td>No Fraud</td>\n",
       "      <td>No Fraud</td>\n",
       "    </tr>\n",
       "    <tr>\n",
       "      <th>71</th>\n",
       "      <td>Potential Fraud</td>\n",
       "      <td>No Fraud</td>\n",
       "    </tr>\n",
       "    <tr>\n",
       "      <th>499</th>\n",
       "      <td>No Fraud</td>\n",
       "      <td>No Fraud</td>\n",
       "    </tr>\n",
       "    <tr>\n",
       "      <th>441</th>\n",
       "      <td>No Fraud</td>\n",
       "      <td>No Fraud</td>\n",
       "    </tr>\n",
       "    <tr>\n",
       "      <th>630</th>\n",
       "      <td>Potential Fraud</td>\n",
       "      <td>No Fraud</td>\n",
       "    </tr>\n",
       "    <tr>\n",
       "      <th>888</th>\n",
       "      <td>Potential Fraud</td>\n",
       "      <td>Potential Fraud</td>\n",
       "    </tr>\n",
       "    <tr>\n",
       "      <th>513</th>\n",
       "      <td>Potential Fraud</td>\n",
       "      <td>No Fraud</td>\n",
       "    </tr>\n",
       "    <tr>\n",
       "      <th>107</th>\n",
       "      <td>Potential Fraud</td>\n",
       "      <td>Confirmed Fraud</td>\n",
       "    </tr>\n",
       "    <tr>\n",
       "      <th>242</th>\n",
       "      <td>Potential Fraud</td>\n",
       "      <td>No Fraud</td>\n",
       "    </tr>\n",
       "    <tr>\n",
       "      <th>474</th>\n",
       "      <td>Confirmed Fraud</td>\n",
       "      <td>Confirmed Fraud</td>\n",
       "    </tr>\n",
       "    <tr>\n",
       "      <th>287</th>\n",
       "      <td>Confirmed Fraud</td>\n",
       "      <td>No Fraud</td>\n",
       "    </tr>\n",
       "    <tr>\n",
       "      <th>277</th>\n",
       "      <td>Confirmed Fraud</td>\n",
       "      <td>Potential Fraud</td>\n",
       "    </tr>\n",
       "    <tr>\n",
       "      <th>717</th>\n",
       "      <td>Confirmed Fraud</td>\n",
       "      <td>Potential Fraud</td>\n",
       "    </tr>\n",
       "    <tr>\n",
       "      <th>78</th>\n",
       "      <td>Potential Fraud</td>\n",
       "      <td>Potential Fraud</td>\n",
       "    </tr>\n",
       "  </tbody>\n",
       "</table>\n",
       "</div>"
      ],
      "text/plain": [
       "            EXPECTED        PREDICTED\n",
       "428  Potential Fraud  Confirmed Fraud\n",
       "810         No Fraud         No Fraud\n",
       "71   Potential Fraud         No Fraud\n",
       "499         No Fraud         No Fraud\n",
       "441         No Fraud         No Fraud\n",
       "630  Potential Fraud         No Fraud\n",
       "888  Potential Fraud  Potential Fraud\n",
       "513  Potential Fraud         No Fraud\n",
       "107  Potential Fraud  Confirmed Fraud\n",
       "242  Potential Fraud         No Fraud\n",
       "474  Confirmed Fraud  Confirmed Fraud\n",
       "287  Confirmed Fraud         No Fraud\n",
       "277  Confirmed Fraud  Potential Fraud\n",
       "717  Confirmed Fraud  Potential Fraud\n",
       "78   Potential Fraud  Potential Fraud"
      ]
     },
     "execution_count": 22,
     "metadata": {},
     "output_type": "execute_result"
    }
   ],
   "source": [
    "com_results.head(15)"
   ]
  },
  {
   "cell_type": "code",
   "execution_count": 23,
   "metadata": {},
   "outputs": [
    {
     "data": {
      "text/plain": [
       "0.3364485981308411"
      ]
     },
     "execution_count": 23,
     "metadata": {},
     "output_type": "execute_result"
    }
   ],
   "source": [
    "com_fitted_clf.score(com_x_train, com_y_train)"
   ]
  },
  {
   "cell_type": "code",
   "execution_count": 24,
   "metadata": {},
   "outputs": [
    {
     "data": {
      "text/plain": [
       "0.25925925925925924"
      ]
     },
     "execution_count": 24,
     "metadata": {},
     "output_type": "execute_result"
    }
   ],
   "source": [
    "com_fitted_clf.score(res_x_test, com_y_test)"
   ]
  },
  {
   "cell_type": "code",
   "execution_count": 25,
   "metadata": {},
   "outputs": [],
   "source": [
    "com_confusion_matrix = sklearn.metrics.confusion_matrix(com_y_test, com_y_pred)"
   ]
  },
  {
   "cell_type": "code",
   "execution_count": null,
   "metadata": {},
   "outputs": [
    {
     "data": {
      "image/png": "[encoded data removed]",
      "text/plain": [
       "<Figure size 640x480 with 2 Axes>"
      ]
     },
     "metadata": {},
     "output_type": "display_data"
    }
   ],
   "source": [
    "com_cm_display = sklearn.metrics.ConfusionMatrixDisplay(\n",
    "    confusion_matrix=com_confusion_matrix,\n",
    "    display_labels=target_labels)\n",
    "\n",
    "com_cm_display.plot(\n",
    "    cmap=plt.cm.Blues, # type: ignore\n",
    "    xticks_rotation=40\n",
    ")\n",
    "plt.show()"
   ]
  },
  {
   "cell_type": "code",
   "execution_count": 27,
   "metadata": {},
   "outputs": [],
   "source": [
    "com_avg_metrics = {\n",
    "    \"accuracy\": sklearn.metrics.accuracy_score(com_y_test, com_y_pred),\n",
    "    \"precision\": sklearn.metrics.precision_score(\n",
    "        com_y_test, com_y_pred,\n",
    "        labels=target_labels,\n",
    "        average=\"weighted\"),\n",
    "    \"sensitivity\": sklearn.metrics.recall_score(\n",
    "        com_y_test, com_y_pred,\n",
    "        labels=target_labels,\n",
    "        average=\"weighted\"),\n",
    "    \"f1_score\": sklearn.metrics.f1_score(\n",
    "        com_y_test, com_y_pred,\n",
    "        labels=target_labels,\n",
    "        average=\"weighted\")\n",
    "}"
   ]
  },
  {
   "cell_type": "code",
   "execution_count": 28,
   "metadata": {},
   "outputs": [
    {
     "data": {
      "text/plain": [
       "{'accuracy': 0.35185185185185186,\n",
       " 'precision': 0.4096296296296296,\n",
       " 'sensitivity': 0.35185185185185186,\n",
       " 'f1_score': 0.35148635477582846}"
      ]
     },
     "execution_count": 28,
     "metadata": {},
     "output_type": "execute_result"
    }
   ],
   "source": [
    "com_avg_metrics"
   ]
  },
  {
   "cell_type": "code",
   "execution_count": 29,
   "metadata": {},
   "outputs": [
    {
     "name": "stdout",
     "output_type": "stream",
     "text": [
      "                 precision    recall  f1-score   support\n",
      "\n",
      "Confirmed Fraud       0.50      0.23      0.31        22\n",
      "       No Fraud       0.24      0.46      0.32        13\n",
      "Potential Fraud       0.42      0.42      0.42        19\n",
      "\n",
      "       accuracy                           0.35        54\n",
      "      macro avg       0.39      0.37      0.35        54\n",
      "   weighted avg       0.41      0.35      0.35        54\n",
      "\n"
     ]
    }
   ],
   "source": [
    "print(sklearn.metrics.classification_report(com_y_test, com_y_pred, target_names=target_labels))"
   ]
  }
 ],
 "metadata": {
  "kernelspec": {
   "display_name": "venv",
   "language": "python",
   "name": "python3"
  },
  "language_info": {
   "codemirror_mode": {
    "name": "ipython",
    "version": 3
   },
   "file_extension": ".py",
   "mimetype": "text/x-python",
   "name": "python",
   "nbconvert_exporter": "python",
   "pygments_lexer": "ipython3",
   "version": "3.12.4"
  }
 },
 "nbformat": 4,
 "nbformat_minor": 2
}
