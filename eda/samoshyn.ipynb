{
 "cells": [
  {
   "cell_type": "code",
   "execution_count": 1,
   "metadata": {},
   "outputs": [],
   "source": [
    "import kagglehub\n",
    "import matplotlib.pyplot as plt\n",
    "import pandas as pd\n",
    "import sklearn\n",
    "import sklearn.metrics\n",
    "import sklearn.linear_model\n",
    "import sklearn.model_selection\n",
    "import sklearn.preprocessing"
   ]
  },
  {
   "cell_type": "code",
   "execution_count": 2,
   "metadata": {},
   "outputs": [
    {
     "name": "stdout",
     "output_type": "stream",
     "text": [
      "Path to dataset files: C:\\Users\\l.mora\\.cache\\kagglehub\\datasets\\mrmorj\\fraud-detection-in-electricity-and-gas-consumption\\versions\\2\n"
     ]
    }
   ],
   "source": [
    "# Download latest Energy Fraud Detection version\n",
    "path = kagglehub.dataset_download(\"mrmorj/fraud-detection-in-electricity-and-gas-consumption\")\n",
    "\n",
    "print(\"Path to dataset files:\", path)"
   ]
  },
  {
   "cell_type": "code",
   "execution_count": 3,
   "metadata": {},
   "outputs": [
    {
     "name": "stdout",
     "output_type": "stream",
     "text": [
      "Training features:\n",
      "\t- client_id;\n",
      "\t- invoice_date;\n",
      "\t- counter_number;\n",
      "\t- consommation_level_1;\n",
      "\t- consommation_level_2;\n",
      "\t- consommation_level_3;\n",
      "\t- consommation_level_4;\n",
      "\t- months_number.\n",
      "Target variable:\n",
      "\t- target\n"
     ]
    }
   ],
   "source": [
    "columns = [\n",
    "    'client_id',\n",
    "    'invoice_date',\n",
    "    'counter_number',\n",
    "    'consommation_level_1',\n",
    "    'consommation_level_2',\n",
    "    'consommation_level_3',\n",
    "    'consommation_level_4',\n",
    "    'months_number'\n",
    "]\n",
    "features = [\n",
    "    'consommation_level_1',\n",
    "    'consommation_level_2',\n",
    "    'consommation_level_3',\n",
    "    'consommation_level_4',\n",
    "    'months_number'\n",
    "]\n",
    "target = 'target'\n",
    "target_labels = [\"No Fraud\", \"Fraud\"]\n",
    "\n",
    "print(f\"Training features:\\n\\t- {\";\\n\\t- \".join(columns)}.\")\n",
    "print(f\"Target variable:\\n\\t- {target}\")"
   ]
  },
  {
   "cell_type": "code",
   "execution_count": 4,
   "metadata": {},
   "outputs": [
    {
     "name": "stdout",
     "output_type": "stream",
     "text": [
      "Total number of columns for invoice CSV:\t8\n",
      "Total number of instances for invoice CSV:\t3079406\n",
      "Invoice CSV column names:\n",
      "\t- client_id;\n",
      "\t- invoice_date;\n",
      "\t- counter_number;\n",
      "\t- consommation_level_1;\n",
      "\t- consommation_level_2;\n",
      "\t- consommation_level_3;\n",
      "\t- consommation_level_4;\n",
      "\t- months_number.\n"
     ]
    }
   ],
   "source": [
    "data = pd.read_csv(f\"{path}\\\\invoice_train.csv\", low_memory=False)\n",
    "\n",
    "data = data[data.counter_type == \"ELEC\"]\n",
    "data = data[columns]\n",
    "\n",
    "print(f\"Total number of columns for invoice CSV:\\t{len(data.columns)}\")\n",
    "print(f\"Total number of instances for invoice CSV:\\t{len(data)}\")\n",
    "print(f\"Invoice CSV column names:\\n\\t- {\";\\n\\t- \".join(list(data.columns))}.\")"
   ]
  },
  {
   "cell_type": "code",
   "execution_count": 5,
   "metadata": {},
   "outputs": [
    {
     "name": "stdout",
     "output_type": "stream",
     "text": [
      "Total number of columns for testing:\t8\n",
      "Total number of instances for testing:\t1335794\n",
      "Test column names:\n",
      "\t- client_id;\n",
      "\t- invoice_date;\n",
      "\t- counter_number;\n",
      "\t- consommation_level_1;\n",
      "\t- consommation_level_2;\n",
      "\t- consommation_level_3;\n",
      "\t- consommation_level_4;\n",
      "\t- months_number.\n"
     ]
    }
   ],
   "source": [
    "test_data = pd.read_csv(f\"{path}\\\\invoice_test.csv\", low_memory=False)\n",
    "\n",
    "test_data = test_data[test_data.counter_type == \"ELEC\"]\n",
    "test_data = test_data[columns]\n",
    "\n",
    "print(f\"Total number of columns for testing:\\t{len(test_data.columns)}\")\n",
    "print(f\"Total number of instances for testing:\\t{len(test_data)}\")\n",
    "print(f\"Test column names:\\n\\t- {\";\\n\\t- \".join(list(test_data.columns))}.\")"
   ]
  },
  {
   "cell_type": "code",
   "execution_count": 6,
   "metadata": {},
   "outputs": [
    {
     "name": "stdout",
     "output_type": "stream",
     "text": [
      "Total number of columns for the merged dataframe:\t9\n",
      "Column names of the generated dataframe:\n",
      "\t- client_id;\n",
      "\t- invoice_date;\n",
      "\t- counter_number;\n",
      "\t- consommation_level_1;\n",
      "\t- consommation_level_2;\n",
      "\t- consommation_level_3;\n",
      "\t- consommation_level_4;\n",
      "\t- months_number;\n",
      "\t- target.\n"
     ]
    }
   ],
   "source": [
    "client_data = pd.read_csv(f\"{path}\\\\client_train.csv\", low_memory=False)\n",
    "merged_data = pd.merge(data, client_data[[\"client_id\", \"target\"]], on=\"client_id\")\n",
    "\n",
    "print(f\"Total number of columns for the merged dataframe:\\t{len(merged_data.columns)}\")\n",
    "print(f\"Column names of the generated dataframe:\\n\\t- {\";\\n\\t- \".join(list(merged_data.columns))}.\")"
   ]
  },
  {
   "cell_type": "code",
   "execution_count": 7,
   "metadata": {},
   "outputs": [
    {
     "name": "stdout",
     "output_type": "stream",
     "text": [
      "Training set instances:\t\t2463524\n",
      "Validation set instances:\t615882\n"
     ]
    }
   ],
   "source": [
    "train, validation = sklearn.model_selection.train_test_split(merged_data, test_size=.2, random_state=42, shuffle=True)\n",
    "\n",
    "print(f\"Training set instances:\\t\\t{len(train)}\")\n",
    "print(f\"Validation set instances:\\t{len(validation)}\")"
   ]
  },
  {
   "cell_type": "code",
   "execution_count": 8,
   "metadata": {},
   "outputs": [],
   "source": [
    "x_train = train[features].to_numpy()\n",
    "y_train = train[target].astype(\"int\").astype(\"category\")"
   ]
  },
  {
   "cell_type": "code",
   "execution_count": 9,
   "metadata": {},
   "outputs": [],
   "source": [
    "x_val = validation[features].to_numpy()\n",
    "y_val = validation[target].astype(\"int\").astype(\"category\")"
   ]
  },
  {
   "cell_type": "code",
   "execution_count": 10,
   "metadata": {},
   "outputs": [],
   "source": [
    "scaler = sklearn.preprocessing.StandardScaler()\n",
    "scaled_x_train = scaler.fit_transform(x_train)"
   ]
  },
  {
   "cell_type": "code",
   "execution_count": 11,
   "metadata": {},
   "outputs": [],
   "source": [
    "clf = sklearn.linear_model.Perceptron(\n",
    "    max_iter=3000,\n",
    "    random_state=42\n",
    ")\n",
    "fitted_clf = clf.fit(scaled_x_train, y_train)"
   ]
  },
  {
   "cell_type": "code",
   "execution_count": 12,
   "metadata": {},
   "outputs": [],
   "source": [
    "y_pred = fitted_clf.predict(scaler.transform(x_val))\n",
    "res_results = pd.DataFrame({\"EXPECTED\": y_val, \"PREDICTED\": y_pred})"
   ]
  },
  {
   "cell_type": "code",
   "execution_count": 13,
   "metadata": {},
   "outputs": [
    {
     "data": {
      "text/html": [
       "<div>\n",
       "<style scoped>\n",
       "    .dataframe tbody tr th:only-of-type {\n",
       "        vertical-align: middle;\n",
       "    }\n",
       "\n",
       "    .dataframe tbody tr th {\n",
       "        vertical-align: top;\n",
       "    }\n",
       "\n",
       "    .dataframe thead th {\n",
       "        text-align: right;\n",
       "    }\n",
       "</style>\n",
       "<table border=\"1\" class=\"dataframe\">\n",
       "  <thead>\n",
       "    <tr style=\"text-align: right;\">\n",
       "      <th></th>\n",
       "      <th>EXPECTED</th>\n",
       "      <th>PREDICTED</th>\n",
       "    </tr>\n",
       "  </thead>\n",
       "  <tbody>\n",
       "    <tr>\n",
       "      <th>448403</th>\n",
       "      <td>0</td>\n",
       "      <td>0</td>\n",
       "    </tr>\n",
       "    <tr>\n",
       "      <th>2549765</th>\n",
       "      <td>0</td>\n",
       "      <td>0</td>\n",
       "    </tr>\n",
       "    <tr>\n",
       "      <th>2513566</th>\n",
       "      <td>0</td>\n",
       "      <td>0</td>\n",
       "    </tr>\n",
       "    <tr>\n",
       "      <th>271804</th>\n",
       "      <td>0</td>\n",
       "      <td>0</td>\n",
       "    </tr>\n",
       "    <tr>\n",
       "      <th>140361</th>\n",
       "      <td>0</td>\n",
       "      <td>0</td>\n",
       "    </tr>\n",
       "    <tr>\n",
       "      <th>2397231</th>\n",
       "      <td>0</td>\n",
       "      <td>0</td>\n",
       "    </tr>\n",
       "    <tr>\n",
       "      <th>543041</th>\n",
       "      <td>0</td>\n",
       "      <td>0</td>\n",
       "    </tr>\n",
       "    <tr>\n",
       "      <th>254070</th>\n",
       "      <td>0</td>\n",
       "      <td>0</td>\n",
       "    </tr>\n",
       "    <tr>\n",
       "      <th>1638398</th>\n",
       "      <td>0</td>\n",
       "      <td>0</td>\n",
       "    </tr>\n",
       "    <tr>\n",
       "      <th>2693182</th>\n",
       "      <td>0</td>\n",
       "      <td>0</td>\n",
       "    </tr>\n",
       "    <tr>\n",
       "      <th>2907549</th>\n",
       "      <td>0</td>\n",
       "      <td>0</td>\n",
       "    </tr>\n",
       "    <tr>\n",
       "      <th>1471105</th>\n",
       "      <td>0</td>\n",
       "      <td>0</td>\n",
       "    </tr>\n",
       "    <tr>\n",
       "      <th>1699241</th>\n",
       "      <td>0</td>\n",
       "      <td>0</td>\n",
       "    </tr>\n",
       "    <tr>\n",
       "      <th>1425966</th>\n",
       "      <td>0</td>\n",
       "      <td>0</td>\n",
       "    </tr>\n",
       "    <tr>\n",
       "      <th>1287226</th>\n",
       "      <td>0</td>\n",
       "      <td>0</td>\n",
       "    </tr>\n",
       "  </tbody>\n",
       "</table>\n",
       "</div>"
      ],
      "text/plain": [
       "        EXPECTED  PREDICTED\n",
       "448403         0          0\n",
       "2549765        0          0\n",
       "2513566        0          0\n",
       "271804         0          0\n",
       "140361         0          0\n",
       "2397231        0          0\n",
       "543041         0          0\n",
       "254070         0          0\n",
       "1638398        0          0\n",
       "2693182        0          0\n",
       "2907549        0          0\n",
       "1471105        0          0\n",
       "1699241        0          0\n",
       "1425966        0          0\n",
       "1287226        0          0"
      ]
     },
     "execution_count": 13,
     "metadata": {},
     "output_type": "execute_result"
    }
   ],
   "source": [
    "res_results.head(15)"
   ]
  },
  {
   "cell_type": "code",
   "execution_count": 14,
   "metadata": {},
   "outputs": [
    {
     "data": {
      "text/plain": [
       "0.8406254617369264"
      ]
     },
     "execution_count": 14,
     "metadata": {},
     "output_type": "execute_result"
    }
   ],
   "source": [
    "fitted_clf.score(x_train, y_train)"
   ]
  },
  {
   "cell_type": "code",
   "execution_count": 15,
   "metadata": {},
   "outputs": [
    {
     "data": {
      "text/plain": [
       "0.8400326685956075"
      ]
     },
     "execution_count": 15,
     "metadata": {},
     "output_type": "execute_result"
    }
   ],
   "source": [
    "fitted_clf.score(x_val, y_val)"
   ]
  },
  {
   "cell_type": "code",
   "execution_count": 16,
   "metadata": {},
   "outputs": [],
   "source": [
    "confusion_matrix = sklearn.metrics.confusion_matrix(y_val, y_pred)"
   ]
  },
  {
   "cell_type": "code",
   "execution_count": 17,
   "metadata": {},
   "outputs": [
    {
     "data": {
      "image/png": "[encoded data removed]",
      "text/plain": [
       "<Figure size 640x480 with 2 Axes>"
      ]
     },
     "metadata": {},
     "output_type": "display_data"
    }
   ],
   "source": [
    "cm_display = sklearn.metrics.ConfusionMatrixDisplay(\n",
    "    confusion_matrix=confusion_matrix,\n",
    "    display_labels=target_labels)\n",
    "\n",
    "cm_display.plot(\n",
    "    cmap=plt.cm.Blues, # type: ignore\n",
    "    xticks_rotation=40\n",
    ")\n",
    "plt.show()"
   ]
  },
  {
   "cell_type": "code",
   "execution_count": 21,
   "metadata": {},
   "outputs": [],
   "source": [
    "avg_metrics = {\n",
    "    \"accuracy\": sklearn.metrics.accuracy_score(y_val, y_pred),\n",
    "    \"precision\": sklearn.metrics.precision_score(\n",
    "        y_val, y_pred,\n",
    "        labels=target_labels),\n",
    "    \"sensitivity\": sklearn.metrics.recall_score(\n",
    "        y_val, y_pred,\n",
    "        labels=target_labels),\n",
    "    \"f1_score\": sklearn.metrics.f1_score(\n",
    "        y_val, y_pred,\n",
    "        labels=target_labels)\n",
    "}"
   ]
  },
  {
   "cell_type": "code",
   "execution_count": 19,
   "metadata": {},
   "outputs": [
    {
     "data": {
      "text/plain": [
       "{'accuracy': 0.9050223906527549,\n",
       " 'precision': 0.0,\n",
       " 'sensitivity': 0.0,\n",
       " 'f1_score': 0.0}"
      ]
     },
     "execution_count": 19,
     "metadata": {},
     "output_type": "execute_result"
    }
   ],
   "source": [
    "avg_metrics"
   ]
  },
  {
   "cell_type": "code",
   "execution_count": 20,
   "metadata": {},
   "outputs": [
    {
     "name": "stdout",
     "output_type": "stream",
     "text": [
      "              precision    recall  f1-score   support\n",
      "\n",
      "    No Fraud       0.92      0.98      0.95    568589\n",
      "       Fraud       0.11      0.03      0.05     47293\n",
      "\n",
      "    accuracy                           0.91    615882\n",
      "   macro avg       0.52      0.50      0.50    615882\n",
      "weighted avg       0.86      0.91      0.88    615882\n",
      "\n"
     ]
    }
   ],
   "source": [
    "print(sklearn.metrics.classification_report(y_val, y_pred, target_names=target_labels))"
   ]
  }
 ],
 "metadata": {
  "kernelspec": {
   "display_name": "venv",
   "language": "python",
   "name": "python3"
  },
  "language_info": {
   "codemirror_mode": {
    "name": "ipython",
    "version": 3
   },
   "file_extension": ".py",
   "mimetype": "text/x-python",
   "name": "python",
   "nbconvert_exporter": "python",
   "pygments_lexer": "ipython3",
   "version": "3.12.4"
  }
 },
 "nbformat": 4,
 "nbformat_minor": 2
}
