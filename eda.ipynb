{
 "cells": [
  {
   "cell_type": "code",
   "execution_count": 65,
   "metadata": {},
   "outputs": [],
   "source": [
    "import kagglehub\n",
    "import matplotlib.pyplot as plt\n",
    "import pandas as pd\n",
    "import sklearn\n",
    "import sklearn.metrics\n",
    "import sklearn.linear_model\n",
    "import sklearn.model_selection\n",
    "import sklearn.preprocessing"
   ]
  },
  {
   "cell_type": "code",
   "execution_count": 66,
   "metadata": {},
   "outputs": [
    {
     "name": "stdout",
     "output_type": "stream",
     "text": [
      "Path to dataset files: C:\\Users\\l.mora\\.cache\\kagglehub\\datasets\\taruneshburman\\energy-fraud-detection\\versions\\1\n"
     ]
    }
   ],
   "source": [
    "# Download latest Energy Fraud Detection version\n",
    "path = kagglehub.dataset_download(\"taruneshburman/energy-fraud-detection\")\n",
    "\n",
    "print(\"Path to dataset files:\", path)"
   ]
  },
  {
   "cell_type": "code",
   "execution_count": 67,
   "metadata": {},
   "outputs": [
    {
     "name": "stdout",
     "output_type": "stream",
     "text": [
      "Column names:\n",
      "\t- Customer_Type;\n",
      "\t- Average_Bill_Amount;\n",
      "\t- Meter_Readings_Deviation;\n",
      "\t- Billing_Cycle;\n",
      "\t- Historical_Consumption;\n",
      "\t- Meter_Type;\n",
      "\t- Tampering_Alerts;\n",
      "\t- Last_Inspection_Days;\n",
      "\t- Peak_Usage_Anomalies;\n",
      "\t- Complaints_Logged;\n",
      "\t- Fraud_Status.\n"
     ]
    }
   ],
   "source": [
    "data = pd.read_csv(f\"{path}\\\\Energy_Fraud_Detection.csv\", low_memory=False)\n",
    "\n",
    "print(f\"Column names:\\n\\t- {\";\\n\\t- \".join(list(data.columns))}.\")"
   ]
  },
  {
   "cell_type": "code",
   "execution_count": 68,
   "metadata": {},
   "outputs": [
    {
     "name": "stdout",
     "output_type": "stream",
     "text": [
      "Number of columns:\t11\n",
      "Training set instances:\t800\n",
      "Test set instances:\t200\n"
     ]
    }
   ],
   "source": [
    "train, test = sklearn.model_selection.train_test_split(data, test_size=.2, random_state=42, shuffle=True)\n",
    "\n",
    "print(f\"Number of columns:\\t{len(train.columns)}\")\n",
    "print(f\"Training set instances:\\t{len(train)}\")\n",
    "print(f\"Test set instances:\\t{len(test)}\")"
   ]
  },
  {
   "cell_type": "code",
   "execution_count": 69,
   "metadata": {},
   "outputs": [
    {
     "name": "stdout",
     "output_type": "stream",
     "text": [
      "Training features:\n",
      "\t- Average_Bill_Amount;\n",
      "\t- Meter_Readings_Deviation;\n",
      "\t- Historical_Consumption;\n",
      "\t- Last_Inspection_Days;\n",
      "\t- Peak_Usage_Anomalies.\n",
      "Target variable:\n",
      "\t- Fraud_Status\n"
     ]
    }
   ],
   "source": [
    "features = [\n",
    "    # 'Customer_Type',\n",
    "    'Average_Bill_Amount',\n",
    "    'Meter_Readings_Deviation',\n",
    "    # 'Billing_Cycle',\n",
    "    'Historical_Consumption',\n",
    "    # 'Meter_Type',\n",
    "    # 'Tampering_Alerts',\n",
    "    'Last_Inspection_Days',\n",
    "    'Peak_Usage_Anomalies',\n",
    "    # 'Complaints_Logged'\n",
    "]\n",
    "target = 'Fraud_Status'\n",
    "target_labels = ['Confirmed Fraud', 'No Fraud', 'Potential Fraud']\n",
    "\n",
    "print(f\"Training features:\\n\\t- {\";\\n\\t- \".join(features)}.\")\n",
    "print(f\"Target variable:\\n\\t- {target}\")"
   ]
  },
  {
   "cell_type": "code",
   "execution_count": 70,
   "metadata": {},
   "outputs": [],
   "source": [
    "x_train = train[features].to_numpy()\n",
    "y_train = train[target].astype(\"category\")\n",
    "\n",
    "x_test = test[features].to_numpy()\n",
    "y_test = test[target].astype(\"category\")"
   ]
  },
  {
   "cell_type": "code",
   "execution_count": 71,
   "metadata": {},
   "outputs": [],
   "source": [
    "scaler = sklearn.preprocessing.StandardScaler()\n",
    "scaled_x_train = scaler.fit_transform(x_train)"
   ]
  },
  {
   "cell_type": "code",
   "execution_count": 72,
   "metadata": {},
   "outputs": [],
   "source": [
    "clf = sklearn.linear_model.Perceptron(\n",
    "    # loss=\"squared_hinge\",\n",
    "    max_iter=3000,\n",
    "    random_state=42\n",
    ")\n",
    "fitted_clf = clf.fit(scaled_x_train, y_train)"
   ]
  },
  {
   "cell_type": "code",
   "execution_count": 73,
   "metadata": {},
   "outputs": [],
   "source": [
    "y_pred = clf.predict(scaler.transform(x_test))\n",
    "results = pd.DataFrame({\"EXPECTED\": y_test, \"PREDICTED\": y_pred})"
   ]
  },
  {
   "cell_type": "code",
   "execution_count": 74,
   "metadata": {},
   "outputs": [
    {
     "data": {
      "text/html": [
       "<div>\n",
       "<style scoped>\n",
       "    .dataframe tbody tr th:only-of-type {\n",
       "        vertical-align: middle;\n",
       "    }\n",
       "\n",
       "    .dataframe tbody tr th {\n",
       "        vertical-align: top;\n",
       "    }\n",
       "\n",
       "    .dataframe thead th {\n",
       "        text-align: right;\n",
       "    }\n",
       "</style>\n",
       "<table border=\"1\" class=\"dataframe\">\n",
       "  <thead>\n",
       "    <tr style=\"text-align: right;\">\n",
       "      <th></th>\n",
       "      <th>EXPECTED</th>\n",
       "      <th>PREDICTED</th>\n",
       "    </tr>\n",
       "  </thead>\n",
       "  <tbody>\n",
       "    <tr>\n",
       "      <th>521</th>\n",
       "      <td>No Fraud</td>\n",
       "      <td>No Fraud</td>\n",
       "    </tr>\n",
       "    <tr>\n",
       "      <th>737</th>\n",
       "      <td>Confirmed Fraud</td>\n",
       "      <td>Potential Fraud</td>\n",
       "    </tr>\n",
       "    <tr>\n",
       "      <th>740</th>\n",
       "      <td>No Fraud</td>\n",
       "      <td>Potential Fraud</td>\n",
       "    </tr>\n",
       "    <tr>\n",
       "      <th>660</th>\n",
       "      <td>No Fraud</td>\n",
       "      <td>Potential Fraud</td>\n",
       "    </tr>\n",
       "    <tr>\n",
       "      <th>411</th>\n",
       "      <td>Potential Fraud</td>\n",
       "      <td>Potential Fraud</td>\n",
       "    </tr>\n",
       "    <tr>\n",
       "      <th>678</th>\n",
       "      <td>Confirmed Fraud</td>\n",
       "      <td>Potential Fraud</td>\n",
       "    </tr>\n",
       "    <tr>\n",
       "      <th>626</th>\n",
       "      <td>Potential Fraud</td>\n",
       "      <td>Confirmed Fraud</td>\n",
       "    </tr>\n",
       "    <tr>\n",
       "      <th>513</th>\n",
       "      <td>Potential Fraud</td>\n",
       "      <td>Potential Fraud</td>\n",
       "    </tr>\n",
       "    <tr>\n",
       "      <th>859</th>\n",
       "      <td>Potential Fraud</td>\n",
       "      <td>Confirmed Fraud</td>\n",
       "    </tr>\n",
       "    <tr>\n",
       "      <th>136</th>\n",
       "      <td>Potential Fraud</td>\n",
       "      <td>Confirmed Fraud</td>\n",
       "    </tr>\n",
       "    <tr>\n",
       "      <th>811</th>\n",
       "      <td>Confirmed Fraud</td>\n",
       "      <td>Potential Fraud</td>\n",
       "    </tr>\n",
       "    <tr>\n",
       "      <th>76</th>\n",
       "      <td>Potential Fraud</td>\n",
       "      <td>Confirmed Fraud</td>\n",
       "    </tr>\n",
       "    <tr>\n",
       "      <th>636</th>\n",
       "      <td>No Fraud</td>\n",
       "      <td>Confirmed Fraud</td>\n",
       "    </tr>\n",
       "    <tr>\n",
       "      <th>973</th>\n",
       "      <td>No Fraud</td>\n",
       "      <td>Confirmed Fraud</td>\n",
       "    </tr>\n",
       "    <tr>\n",
       "      <th>938</th>\n",
       "      <td>Potential Fraud</td>\n",
       "      <td>Confirmed Fraud</td>\n",
       "    </tr>\n",
       "    <tr>\n",
       "      <th>899</th>\n",
       "      <td>No Fraud</td>\n",
       "      <td>Potential Fraud</td>\n",
       "    </tr>\n",
       "    <tr>\n",
       "      <th>280</th>\n",
       "      <td>Confirmed Fraud</td>\n",
       "      <td>Potential Fraud</td>\n",
       "    </tr>\n",
       "    <tr>\n",
       "      <th>883</th>\n",
       "      <td>No Fraud</td>\n",
       "      <td>No Fraud</td>\n",
       "    </tr>\n",
       "    <tr>\n",
       "      <th>761</th>\n",
       "      <td>Potential Fraud</td>\n",
       "      <td>Potential Fraud</td>\n",
       "    </tr>\n",
       "    <tr>\n",
       "      <th>319</th>\n",
       "      <td>No Fraud</td>\n",
       "      <td>No Fraud</td>\n",
       "    </tr>\n",
       "    <tr>\n",
       "      <th>549</th>\n",
       "      <td>No Fraud</td>\n",
       "      <td>No Fraud</td>\n",
       "    </tr>\n",
       "    <tr>\n",
       "      <th>174</th>\n",
       "      <td>No Fraud</td>\n",
       "      <td>Confirmed Fraud</td>\n",
       "    </tr>\n",
       "    <tr>\n",
       "      <th>371</th>\n",
       "      <td>Potential Fraud</td>\n",
       "      <td>Confirmed Fraud</td>\n",
       "    </tr>\n",
       "    <tr>\n",
       "      <th>527</th>\n",
       "      <td>Potential Fraud</td>\n",
       "      <td>Confirmed Fraud</td>\n",
       "    </tr>\n",
       "    <tr>\n",
       "      <th>210</th>\n",
       "      <td>No Fraud</td>\n",
       "      <td>Potential Fraud</td>\n",
       "    </tr>\n",
       "    <tr>\n",
       "      <th>235</th>\n",
       "      <td>Potential Fraud</td>\n",
       "      <td>Potential Fraud</td>\n",
       "    </tr>\n",
       "    <tr>\n",
       "      <th>101</th>\n",
       "      <td>Confirmed Fraud</td>\n",
       "      <td>Confirmed Fraud</td>\n",
       "    </tr>\n",
       "    <tr>\n",
       "      <th>986</th>\n",
       "      <td>No Fraud</td>\n",
       "      <td>Potential Fraud</td>\n",
       "    </tr>\n",
       "    <tr>\n",
       "      <th>902</th>\n",
       "      <td>Potential Fraud</td>\n",
       "      <td>Confirmed Fraud</td>\n",
       "    </tr>\n",
       "    <tr>\n",
       "      <th>947</th>\n",
       "      <td>Confirmed Fraud</td>\n",
       "      <td>Confirmed Fraud</td>\n",
       "    </tr>\n",
       "    <tr>\n",
       "      <th>346</th>\n",
       "      <td>Confirmed Fraud</td>\n",
       "      <td>Potential Fraud</td>\n",
       "    </tr>\n",
       "    <tr>\n",
       "      <th>139</th>\n",
       "      <td>Confirmed Fraud</td>\n",
       "      <td>No Fraud</td>\n",
       "    </tr>\n",
       "    <tr>\n",
       "      <th>621</th>\n",
       "      <td>Confirmed Fraud</td>\n",
       "      <td>Confirmed Fraud</td>\n",
       "    </tr>\n",
       "    <tr>\n",
       "      <th>499</th>\n",
       "      <td>No Fraud</td>\n",
       "      <td>Potential Fraud</td>\n",
       "    </tr>\n",
       "    <tr>\n",
       "      <th>370</th>\n",
       "      <td>Confirmed Fraud</td>\n",
       "      <td>Potential Fraud</td>\n",
       "    </tr>\n",
       "    <tr>\n",
       "      <th>198</th>\n",
       "      <td>Potential Fraud</td>\n",
       "      <td>Potential Fraud</td>\n",
       "    </tr>\n",
       "    <tr>\n",
       "      <th>687</th>\n",
       "      <td>Potential Fraud</td>\n",
       "      <td>Confirmed Fraud</td>\n",
       "    </tr>\n",
       "    <tr>\n",
       "      <th>584</th>\n",
       "      <td>No Fraud</td>\n",
       "      <td>Confirmed Fraud</td>\n",
       "    </tr>\n",
       "    <tr>\n",
       "      <th>901</th>\n",
       "      <td>Confirmed Fraud</td>\n",
       "      <td>Confirmed Fraud</td>\n",
       "    </tr>\n",
       "    <tr>\n",
       "      <th>59</th>\n",
       "      <td>Confirmed Fraud</td>\n",
       "      <td>Confirmed Fraud</td>\n",
       "    </tr>\n",
       "    <tr>\n",
       "      <th>328</th>\n",
       "      <td>Potential Fraud</td>\n",
       "      <td>Confirmed Fraud</td>\n",
       "    </tr>\n",
       "    <tr>\n",
       "      <th>96</th>\n",
       "      <td>Confirmed Fraud</td>\n",
       "      <td>Potential Fraud</td>\n",
       "    </tr>\n",
       "    <tr>\n",
       "      <th>312</th>\n",
       "      <td>Confirmed Fraud</td>\n",
       "      <td>Potential Fraud</td>\n",
       "    </tr>\n",
       "    <tr>\n",
       "      <th>974</th>\n",
       "      <td>Potential Fraud</td>\n",
       "      <td>Potential Fraud</td>\n",
       "    </tr>\n",
       "    <tr>\n",
       "      <th>299</th>\n",
       "      <td>Potential Fraud</td>\n",
       "      <td>Potential Fraud</td>\n",
       "    </tr>\n",
       "    <tr>\n",
       "      <th>277</th>\n",
       "      <td>Confirmed Fraud</td>\n",
       "      <td>Potential Fraud</td>\n",
       "    </tr>\n",
       "    <tr>\n",
       "      <th>924</th>\n",
       "      <td>Potential Fraud</td>\n",
       "      <td>Confirmed Fraud</td>\n",
       "    </tr>\n",
       "    <tr>\n",
       "      <th>601</th>\n",
       "      <td>Confirmed Fraud</td>\n",
       "      <td>Potential Fraud</td>\n",
       "    </tr>\n",
       "    <tr>\n",
       "      <th>439</th>\n",
       "      <td>Potential Fraud</td>\n",
       "      <td>Potential Fraud</td>\n",
       "    </tr>\n",
       "    <tr>\n",
       "      <th>837</th>\n",
       "      <td>Confirmed Fraud</td>\n",
       "      <td>Confirmed Fraud</td>\n",
       "    </tr>\n",
       "    <tr>\n",
       "      <th>570</th>\n",
       "      <td>Potential Fraud</td>\n",
       "      <td>Confirmed Fraud</td>\n",
       "    </tr>\n",
       "    <tr>\n",
       "      <th>879</th>\n",
       "      <td>Potential Fraud</td>\n",
       "      <td>Potential Fraud</td>\n",
       "    </tr>\n",
       "    <tr>\n",
       "      <th>261</th>\n",
       "      <td>Confirmed Fraud</td>\n",
       "      <td>Confirmed Fraud</td>\n",
       "    </tr>\n",
       "    <tr>\n",
       "      <th>578</th>\n",
       "      <td>No Fraud</td>\n",
       "      <td>Potential Fraud</td>\n",
       "    </tr>\n",
       "    <tr>\n",
       "      <th>23</th>\n",
       "      <td>No Fraud</td>\n",
       "      <td>No Fraud</td>\n",
       "    </tr>\n",
       "    <tr>\n",
       "      <th>30</th>\n",
       "      <td>No Fraud</td>\n",
       "      <td>Potential Fraud</td>\n",
       "    </tr>\n",
       "    <tr>\n",
       "      <th>617</th>\n",
       "      <td>Confirmed Fraud</td>\n",
       "      <td>Confirmed Fraud</td>\n",
       "    </tr>\n",
       "    <tr>\n",
       "      <th>10</th>\n",
       "      <td>Potential Fraud</td>\n",
       "      <td>Confirmed Fraud</td>\n",
       "    </tr>\n",
       "    <tr>\n",
       "      <th>221</th>\n",
       "      <td>No Fraud</td>\n",
       "      <td>Confirmed Fraud</td>\n",
       "    </tr>\n",
       "    <tr>\n",
       "      <th>820</th>\n",
       "      <td>No Fraud</td>\n",
       "      <td>Confirmed Fraud</td>\n",
       "    </tr>\n",
       "  </tbody>\n",
       "</table>\n",
       "</div>"
      ],
      "text/plain": [
       "            EXPECTED        PREDICTED\n",
       "521         No Fraud         No Fraud\n",
       "737  Confirmed Fraud  Potential Fraud\n",
       "740         No Fraud  Potential Fraud\n",
       "660         No Fraud  Potential Fraud\n",
       "411  Potential Fraud  Potential Fraud\n",
       "678  Confirmed Fraud  Potential Fraud\n",
       "626  Potential Fraud  Confirmed Fraud\n",
       "513  Potential Fraud  Potential Fraud\n",
       "859  Potential Fraud  Confirmed Fraud\n",
       "136  Potential Fraud  Confirmed Fraud\n",
       "811  Confirmed Fraud  Potential Fraud\n",
       "76   Potential Fraud  Confirmed Fraud\n",
       "636         No Fraud  Confirmed Fraud\n",
       "973         No Fraud  Confirmed Fraud\n",
       "938  Potential Fraud  Confirmed Fraud\n",
       "899         No Fraud  Potential Fraud\n",
       "280  Confirmed Fraud  Potential Fraud\n",
       "883         No Fraud         No Fraud\n",
       "761  Potential Fraud  Potential Fraud\n",
       "319         No Fraud         No Fraud\n",
       "549         No Fraud         No Fraud\n",
       "174         No Fraud  Confirmed Fraud\n",
       "371  Potential Fraud  Confirmed Fraud\n",
       "527  Potential Fraud  Confirmed Fraud\n",
       "210         No Fraud  Potential Fraud\n",
       "235  Potential Fraud  Potential Fraud\n",
       "101  Confirmed Fraud  Confirmed Fraud\n",
       "986         No Fraud  Potential Fraud\n",
       "902  Potential Fraud  Confirmed Fraud\n",
       "947  Confirmed Fraud  Confirmed Fraud\n",
       "346  Confirmed Fraud  Potential Fraud\n",
       "139  Confirmed Fraud         No Fraud\n",
       "621  Confirmed Fraud  Confirmed Fraud\n",
       "499         No Fraud  Potential Fraud\n",
       "370  Confirmed Fraud  Potential Fraud\n",
       "198  Potential Fraud  Potential Fraud\n",
       "687  Potential Fraud  Confirmed Fraud\n",
       "584         No Fraud  Confirmed Fraud\n",
       "901  Confirmed Fraud  Confirmed Fraud\n",
       "59   Confirmed Fraud  Confirmed Fraud\n",
       "328  Potential Fraud  Confirmed Fraud\n",
       "96   Confirmed Fraud  Potential Fraud\n",
       "312  Confirmed Fraud  Potential Fraud\n",
       "974  Potential Fraud  Potential Fraud\n",
       "299  Potential Fraud  Potential Fraud\n",
       "277  Confirmed Fraud  Potential Fraud\n",
       "924  Potential Fraud  Confirmed Fraud\n",
       "601  Confirmed Fraud  Potential Fraud\n",
       "439  Potential Fraud  Potential Fraud\n",
       "837  Confirmed Fraud  Confirmed Fraud\n",
       "570  Potential Fraud  Confirmed Fraud\n",
       "879  Potential Fraud  Potential Fraud\n",
       "261  Confirmed Fraud  Confirmed Fraud\n",
       "578         No Fraud  Potential Fraud\n",
       "23          No Fraud         No Fraud\n",
       "30          No Fraud  Potential Fraud\n",
       "617  Confirmed Fraud  Confirmed Fraud\n",
       "10   Potential Fraud  Confirmed Fraud\n",
       "221         No Fraud  Confirmed Fraud\n",
       "820         No Fraud  Confirmed Fraud"
      ]
     },
     "execution_count": 74,
     "metadata": {},
     "output_type": "execute_result"
    }
   ],
   "source": [
    "results.head(60)"
   ]
  },
  {
   "cell_type": "code",
   "execution_count": 75,
   "metadata": {},
   "outputs": [
    {
     "data": {
      "text/plain": [
       "0.34375"
      ]
     },
     "execution_count": 75,
     "metadata": {},
     "output_type": "execute_result"
    }
   ],
   "source": [
    "clf.score(x_train, y_train)"
   ]
  },
  {
   "cell_type": "code",
   "execution_count": 76,
   "metadata": {},
   "outputs": [
    {
     "data": {
      "text/plain": [
       "0.305"
      ]
     },
     "execution_count": 76,
     "metadata": {},
     "output_type": "execute_result"
    }
   ],
   "source": [
    "clf.score(x_test, y_test)"
   ]
  },
  {
   "cell_type": "code",
   "execution_count": 77,
   "metadata": {},
   "outputs": [],
   "source": [
    "confusion_matrix = sklearn.metrics.confusion_matrix(y_test, y_pred)"
   ]
  },
  {
   "cell_type": "code",
   "execution_count": 78,
   "metadata": {},
   "outputs": [
    {
     "data": {
      "image/png": "[encoded data removed]",
      "text/plain": [
       "<Figure size 640x480 with 2 Axes>"
      ]
     },
     "metadata": {},
     "output_type": "display_data"
    }
   ],
   "source": [
    "cm_display = sklearn.metrics.ConfusionMatrixDisplay(\n",
    "    confusion_matrix=confusion_matrix,\n",
    "    display_labels=target_labels)\n",
    "\n",
    "cm_display.plot(\n",
    "    cmap=plt.cm.Blues, # type: ignore\n",
    "    xticks_rotation=40\n",
    ")\n",
    "plt.show()"
   ]
  },
  {
   "cell_type": "code",
   "execution_count": 79,
   "metadata": {},
   "outputs": [],
   "source": [
    "avg_metrics = {\n",
    "    \"accuracy\": sklearn.metrics.accuracy_score(y_test, y_pred),\n",
    "    \"precision\": sklearn.metrics.precision_score(\n",
    "        y_test, y_pred,\n",
    "        labels=target_labels,\n",
    "        average=\"weighted\"),\n",
    "    \"sensitivity\": sklearn.metrics.recall_score(\n",
    "        y_test, y_pred,\n",
    "        labels=target_labels,\n",
    "        average=\"weighted\"),\n",
    "    \"f1_score\": sklearn.metrics.f1_score(\n",
    "        y_test, y_pred,\n",
    "        labels=target_labels,\n",
    "        average=\"weighted\")\n",
    "}"
   ]
  },
  {
   "cell_type": "code",
   "execution_count": 80,
   "metadata": {},
   "outputs": [
    {
     "data": {
      "text/plain": [
       "{'accuracy': 0.35,\n",
       " 'precision': 0.35944444444444446,\n",
       " 'sensitivity': 0.35,\n",
       " 'f1_score': 0.3373282834997646}"
      ]
     },
     "execution_count": 80,
     "metadata": {},
     "output_type": "execute_result"
    }
   ],
   "source": [
    "avg_metrics"
   ]
  },
  {
   "cell_type": "code",
   "execution_count": 81,
   "metadata": {},
   "outputs": [
    {
     "name": "stdout",
     "output_type": "stream",
     "text": [
      "                 precision    recall  f1-score   support\n",
      "\n",
      "Confirmed Fraud       0.41      0.46      0.43        72\n",
      "       No Fraud       0.37      0.16      0.23        67\n",
      "Potential Fraud       0.29      0.43      0.34        61\n",
      "\n",
      "       accuracy                           0.35       200\n",
      "      macro avg       0.36      0.35      0.34       200\n",
      "   weighted avg       0.36      0.35      0.34       200\n",
      "\n"
     ]
    }
   ],
   "source": [
    "print(sklearn.metrics.classification_report(y_test, y_pred, target_names=target_labels))"
   ]
  }
 ],
 "metadata": {
  "kernelspec": {
   "display_name": "venv",
   "language": "python",
   "name": "python3"
  },
  "language_info": {
   "codemirror_mode": {
    "name": "ipython",
    "version": 3
   },
   "file_extension": ".py",
   "mimetype": "text/x-python",
   "name": "python",
   "nbconvert_exporter": "python",
   "pygments_lexer": "ipython3",
   "version": "3.12.4"
  }
 },
 "nbformat": 4,
 "nbformat_minor": 2
}
